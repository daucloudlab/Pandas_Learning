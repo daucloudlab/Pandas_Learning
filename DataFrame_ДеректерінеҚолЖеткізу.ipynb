{
 "cells": [
  {
   "cell_type": "code",
   "execution_count": 1,
   "metadata": {
    "collapsed": true
   },
   "outputs": [],
   "source": [
    "import numpy as np\n",
    "import pandas as pd"
   ]
  },
  {
   "cell_type": "markdown",
   "metadata": {},
   "source": [
    "## DataFrame объектісінде бағаналарды таңдау"
   ]
  },
  {
   "cell_type": "code",
   "execution_count": 2,
   "metadata": {
    "collapsed": true
   },
   "outputs": [],
   "source": [
    "df = pd.read_csv('DataSets/sp500.csv', index_col = 'Symbol', usecols=[0, 2, 3,7])"
   ]
  },
  {
   "cell_type": "code",
   "execution_count": 3,
   "metadata": {
    "collapsed": false
   },
   "outputs": [
    {
     "data": {
      "text/html": [
       "<div>\n",
       "<table border=\"1\" class=\"dataframe\">\n",
       "  <thead>\n",
       "    <tr style=\"text-align: right;\">\n",
       "      <th></th>\n",
       "      <th>Sector</th>\n",
       "      <th>Price</th>\n",
       "      <th>Book Value</th>\n",
       "    </tr>\n",
       "    <tr>\n",
       "      <th>Symbol</th>\n",
       "      <th></th>\n",
       "      <th></th>\n",
       "      <th></th>\n",
       "    </tr>\n",
       "  </thead>\n",
       "  <tbody>\n",
       "    <tr>\n",
       "      <th>MMM</th>\n",
       "      <td>Industrials</td>\n",
       "      <td>141.14</td>\n",
       "      <td>26.668</td>\n",
       "    </tr>\n",
       "    <tr>\n",
       "      <th>ABT</th>\n",
       "      <td>Health Care</td>\n",
       "      <td>39.60</td>\n",
       "      <td>15.573</td>\n",
       "    </tr>\n",
       "    <tr>\n",
       "      <th>ABBV</th>\n",
       "      <td>Health Care</td>\n",
       "      <td>53.95</td>\n",
       "      <td>2.954</td>\n",
       "    </tr>\n",
       "    <tr>\n",
       "      <th>ACN</th>\n",
       "      <td>Information Technology</td>\n",
       "      <td>79.79</td>\n",
       "      <td>8.326</td>\n",
       "    </tr>\n",
       "    <tr>\n",
       "      <th>ACE</th>\n",
       "      <td>Financials</td>\n",
       "      <td>102.91</td>\n",
       "      <td>86.897</td>\n",
       "    </tr>\n",
       "  </tbody>\n",
       "</table>\n",
       "</div>"
      ],
      "text/plain": [
       "                        Sector   Price  Book Value\n",
       "Symbol                                            \n",
       "MMM                Industrials  141.14      26.668\n",
       "ABT                Health Care   39.60      15.573\n",
       "ABBV               Health Care   53.95       2.954\n",
       "ACN     Information Technology   79.79       8.326\n",
       "ACE                 Financials  102.91      86.897"
      ]
     },
     "execution_count": 3,
     "metadata": {},
     "output_type": "execute_result"
    }
   ],
   "source": [
    "df.head()"
   ]
  },
  {
   "cell_type": "code",
   "execution_count": 4,
   "metadata": {
    "collapsed": false
   },
   "outputs": [
    {
     "data": {
      "text/plain": [
       "Symbol\n",
       "MMM                     Industrials\n",
       "ABT                     Health Care\n",
       "ABBV                    Health Care\n",
       "ACN          Information Technology\n",
       "ACE                      Financials\n",
       "ACT                     Health Care\n",
       "ADBE         Information Technology\n",
       "AES                       Utilities\n",
       "AET                     Health Care\n",
       "AFL                      Financials\n",
       "A                       Health Care\n",
       "GAS                       Utilities\n",
       "APD                       Materials\n",
       "ARG                       Materials\n",
       "AKAM         Information Technology\n",
       "AA                        Materials\n",
       "ALXN                    Health Care\n",
       "ATI                       Materials\n",
       "ALLE                    Industrials\n",
       "AGN                     Health Care\n",
       "ADS          Information Technology\n",
       "ALL                      Financials\n",
       "ALTR         Information Technology\n",
       "MO                 Consumer Staples\n",
       "AMZN         Consumer Discretionary\n",
       "AEE                       Utilities\n",
       "AEP                       Utilities\n",
       "AXP                      Financials\n",
       "AIG                      Financials\n",
       "AMT                      Financials\n",
       "                   ...             \n",
       "VIAB         Consumer Discretionary\n",
       "V            Information Technology\n",
       "VNO                      Financials\n",
       "VMC                       Materials\n",
       "WMT                Consumer Staples\n",
       "WAG                Consumer Staples\n",
       "DIS          Consumer Discretionary\n",
       "WM                      Industrials\n",
       "WAT                     Health Care\n",
       "WLP                     Health Care\n",
       "WFC                      Financials\n",
       "WDC          Information Technology\n",
       "WU           Information Technology\n",
       "WY                       Financials\n",
       "WHR          Consumer Discretionary\n",
       "WFM                Consumer Staples\n",
       "WIN     Telecommunications Services\n",
       "WEC                       Utilities\n",
       "WYN          Consumer Discretionary\n",
       "WYNN         Consumer Discretionary\n",
       "XEL                       Utilities\n",
       "XRX          Information Technology\n",
       "XLNX         Information Technology\n",
       "XL                       Financials\n",
       "XYL                     Industrials\n",
       "YHOO         Information Technology\n",
       "YUM          Consumer Discretionary\n",
       "ZMH                     Health Care\n",
       "ZION                     Financials\n",
       "ZTS                     Health Care\n",
       "Name: Sector, dtype: object"
      ]
     },
     "execution_count": 4,
     "metadata": {},
     "output_type": "execute_result"
    }
   ],
   "source": [
    "df['Sector']"
   ]
  },
  {
   "cell_type": "code",
   "execution_count": 5,
   "metadata": {
    "collapsed": false
   },
   "outputs": [
    {
     "data": {
      "text/plain": [
       "pandas.core.series.Series"
      ]
     },
     "execution_count": 5,
     "metadata": {},
     "output_type": "execute_result"
    }
   ],
   "source": [
    "type(df['Sector'])"
   ]
  },
  {
   "cell_type": "code",
   "execution_count": 7,
   "metadata": {
    "collapsed": false
   },
   "outputs": [
    {
     "data": {
      "text/html": [
       "<div>\n",
       "<table border=\"1\" class=\"dataframe\">\n",
       "  <thead>\n",
       "    <tr style=\"text-align: right;\">\n",
       "      <th></th>\n",
       "      <th>Price</th>\n",
       "      <th>Book Value</th>\n",
       "    </tr>\n",
       "    <tr>\n",
       "      <th>Symbol</th>\n",
       "      <th></th>\n",
       "      <th></th>\n",
       "    </tr>\n",
       "  </thead>\n",
       "  <tbody>\n",
       "    <tr>\n",
       "      <th>MMM</th>\n",
       "      <td>141.14</td>\n",
       "      <td>26.668</td>\n",
       "    </tr>\n",
       "    <tr>\n",
       "      <th>ABT</th>\n",
       "      <td>39.60</td>\n",
       "      <td>15.573</td>\n",
       "    </tr>\n",
       "    <tr>\n",
       "      <th>ABBV</th>\n",
       "      <td>53.95</td>\n",
       "      <td>2.954</td>\n",
       "    </tr>\n",
       "    <tr>\n",
       "      <th>ACN</th>\n",
       "      <td>79.79</td>\n",
       "      <td>8.326</td>\n",
       "    </tr>\n",
       "    <tr>\n",
       "      <th>ACE</th>\n",
       "      <td>102.91</td>\n",
       "      <td>86.897</td>\n",
       "    </tr>\n",
       "  </tbody>\n",
       "</table>\n",
       "</div>"
      ],
      "text/plain": [
       "         Price  Book Value\n",
       "Symbol                    \n",
       "MMM     141.14      26.668\n",
       "ABT      39.60      15.573\n",
       "ABBV     53.95       2.954\n",
       "ACN      79.79       8.326\n",
       "ACE     102.91      86.897"
      ]
     },
     "execution_count": 7,
     "metadata": {},
     "output_type": "execute_result"
    }
   ],
   "source": [
    "df[['Price', 'Book Value']].head()"
   ]
  },
  {
   "cell_type": "code",
   "execution_count": 8,
   "metadata": {
    "collapsed": false
   },
   "outputs": [
    {
     "data": {
      "text/plain": [
       "pandas.core.frame.DataFrame"
      ]
     },
     "execution_count": 8,
     "metadata": {},
     "output_type": "execute_result"
    }
   ],
   "source": [
    "type(df[['Price', 'Book Value']])"
   ]
  },
  {
   "cell_type": "code",
   "execution_count": 9,
   "metadata": {
    "collapsed": false
   },
   "outputs": [
    {
     "data": {
      "text/plain": [
       "Symbol\n",
       "MMM     141.14\n",
       "ABT      39.60\n",
       "ABBV     53.95\n",
       "ACN      79.79\n",
       "ACE     102.91\n",
       "ACT     213.77\n",
       "ADBE     64.30\n",
       "AES      13.61\n",
       "AET      76.39\n",
       "AFL      61.31\n",
       "A        56.18\n",
       "GAS      52.98\n",
       "APD     118.74\n",
       "ARG     105.66\n",
       "AKAM     53.65\n",
       "AA       13.52\n",
       "ALXN    162.30\n",
       "ATI      40.99\n",
       "ALLE     52.46\n",
       "AGN     166.92\n",
       "ADS     248.88\n",
       "ALL      58.38\n",
       "ALTR     33.31\n",
       "MO       40.68\n",
       "AMZN    312.24\n",
       "AEE      38.64\n",
       "AEP      51.41\n",
       "AXP      88.78\n",
       "AIG      53.60\n",
       "AMT      88.41\n",
       "         ...  \n",
       "VIAB     84.99\n",
       "V       212.07\n",
       "VNO     105.32\n",
       "VMC      61.19\n",
       "WMT      75.61\n",
       "WAG      69.79\n",
       "DIS      83.32\n",
       "WM       43.37\n",
       "WAT     100.54\n",
       "WLP     108.82\n",
       "WFC      50.16\n",
       "WDC      84.83\n",
       "WU       15.77\n",
       "WY       30.87\n",
       "WHR     147.26\n",
       "WFM      37.78\n",
       "WIN       9.38\n",
       "WEC      45.13\n",
       "WYN      72.22\n",
       "WYNN    207.86\n",
       "XEL      30.24\n",
       "XRX      12.06\n",
       "XLNX     46.03\n",
       "XL       32.47\n",
       "XYL      38.42\n",
       "YHOO     35.02\n",
       "YUM      74.77\n",
       "ZMH     101.84\n",
       "ZION     28.43\n",
       "ZTS      30.53\n",
       "Name: Price, dtype: float64"
      ]
     },
     "execution_count": 9,
     "metadata": {},
     "output_type": "execute_result"
    }
   ],
   "source": [
    "df.Price"
   ]
  },
  {
   "cell_type": "markdown",
   "metadata": {},
   "source": [
    "## DataFrame объектісінде жолдарды таңдау "
   ]
  },
  {
   "cell_type": "code",
   "execution_count": 10,
   "metadata": {
    "collapsed": false
   },
   "outputs": [
    {
     "data": {
      "text/plain": [
       "Sector        Industrials\n",
       "Price              141.14\n",
       "Book Value         26.668\n",
       "Name: MMM, dtype: object"
      ]
     },
     "execution_count": 10,
     "metadata": {},
     "output_type": "execute_result"
    }
   ],
   "source": [
    "df.loc['MMM']"
   ]
  },
  {
   "cell_type": "code",
   "execution_count": 11,
   "metadata": {
    "collapsed": false
   },
   "outputs": [
    {
     "data": {
      "text/plain": [
       "pandas.core.series.Series"
      ]
     },
     "execution_count": 11,
     "metadata": {},
     "output_type": "execute_result"
    }
   ],
   "source": [
    "type(df.loc['MMMT"
   ]
  },
  {
   "cell_type": "code",
   "execution_count": 12,
   "metadata": {
    "collapsed": false
   },
   "outputs": [
    {
     "data": {
      "text/html": [
       "<div>\n",
       "<table border=\"1\" class=\"dataframe\">\n",
       "  <thead>\n",
       "    <tr style=\"text-align: right;\">\n",
       "      <th></th>\n",
       "      <th>Sector</th>\n",
       "      <th>Price</th>\n",
       "      <th>Book Value</th>\n",
       "    </tr>\n",
       "    <tr>\n",
       "      <th>Symbol</th>\n",
       "      <th></th>\n",
       "      <th></th>\n",
       "      <th></th>\n",
       "    </tr>\n",
       "  </thead>\n",
       "  <tbody>\n",
       "    <tr>\n",
       "      <th>MMM</th>\n",
       "      <td>Industrials</td>\n",
       "      <td>141.14</td>\n",
       "      <td>26.668</td>\n",
       "    </tr>\n",
       "    <tr>\n",
       "      <th>MSFT</th>\n",
       "      <td>Information Technology</td>\n",
       "      <td>40.12</td>\n",
       "      <td>10.584</td>\n",
       "    </tr>\n",
       "  </tbody>\n",
       "</table>\n",
       "</div>"
      ],
      "text/plain": [
       "                        Sector   Price  Book Value\n",
       "Symbol                                            \n",
       "MMM                Industrials  141.14      26.668\n",
       "MSFT    Information Technology   40.12      10.584"
      ]
     },
     "execution_count": 12,
     "metadata": {},
     "output_type": "execute_result"
    }
   ],
   "source": [
    "df.loc[['MMM', 'MSFT']]"
   ]
  },
  {
   "cell_type": "code",
   "execution_count": 14,
   "metadata": {
    "collapsed": false
   },
   "outputs": [
    {
     "data": {
      "text/plain": [
       "pandas.core.frame.DataFrame"
      ]
     },
     "execution_count": 14,
     "metadata": {},
     "output_type": "execute_result"
    }
   ],
   "source": [
    "type(df.loc[['MMM', 'MSFT']])"
   ]
  },
  {
   "cell_type": "code",
   "execution_count": 15,
   "metadata": {
    "collapsed": false
   },
   "outputs": [
    {
     "data": {
      "text/html": [
       "<div>\n",
       "<table border=\"1\" class=\"dataframe\">\n",
       "  <thead>\n",
       "    <tr style=\"text-align: right;\">\n",
       "      <th></th>\n",
       "      <th>Sector</th>\n",
       "      <th>Price</th>\n",
       "      <th>Book Value</th>\n",
       "    </tr>\n",
       "    <tr>\n",
       "      <th>Symbol</th>\n",
       "      <th></th>\n",
       "      <th></th>\n",
       "      <th></th>\n",
       "    </tr>\n",
       "  </thead>\n",
       "  <tbody>\n",
       "    <tr>\n",
       "      <th>MMM</th>\n",
       "      <td>Industrials</td>\n",
       "      <td>141.14</td>\n",
       "      <td>26.668</td>\n",
       "    </tr>\n",
       "    <tr>\n",
       "      <th>MSF</th>\n",
       "      <td>NaN</td>\n",
       "      <td>NaN</td>\n",
       "      <td>NaN</td>\n",
       "    </tr>\n",
       "  </tbody>\n",
       "</table>\n",
       "</div>"
      ],
      "text/plain": [
       "             Sector   Price  Book Value\n",
       "Symbol                                 \n",
       "MMM     Industrials  141.14      26.668\n",
       "MSF             NaN     NaN         NaN"
      ]
     },
     "execution_count": 15,
     "metadata": {},
     "output_type": "execute_result"
    }
   ],
   "source": [
    "df.loc[['MMM', 'MSF']]"
   ]
  },
  {
   "cell_type": "code",
   "execution_count": null,
   "metadata": {
    "collapsed": true
   },
   "outputs": [],
   "source": []
  },
  {
   "cell_type": "code",
   "execution_count": 16,
   "metadata": {
    "collapsed": false
   },
   "outputs": [
    {
     "data": {
      "text/plain": [
       "Sector        Industrials\n",
       "Price              141.14\n",
       "Book Value         26.668\n",
       "Name: MMM, dtype: object"
      ]
     },
     "execution_count": 16,
     "metadata": {},
     "output_type": "execute_result"
    }
   ],
   "source": [
    "df.iloc[0]"
   ]
  },
  {
   "cell_type": "code",
   "execution_count": 17,
   "metadata": {
    "collapsed": false
   },
   "outputs": [
    {
     "data": {
      "text/html": [
       "<div>\n",
       "<table border=\"1\" class=\"dataframe\">\n",
       "  <thead>\n",
       "    <tr style=\"text-align: right;\">\n",
       "      <th></th>\n",
       "      <th>Sector</th>\n",
       "      <th>Price</th>\n",
       "      <th>Book Value</th>\n",
       "    </tr>\n",
       "    <tr>\n",
       "      <th>Symbol</th>\n",
       "      <th></th>\n",
       "      <th></th>\n",
       "      <th></th>\n",
       "    </tr>\n",
       "  </thead>\n",
       "  <tbody>\n",
       "    <tr>\n",
       "      <th>MMM</th>\n",
       "      <td>Industrials</td>\n",
       "      <td>141.14</td>\n",
       "      <td>26.668</td>\n",
       "    </tr>\n",
       "    <tr>\n",
       "      <th>ABBV</th>\n",
       "      <td>Health Care</td>\n",
       "      <td>53.95</td>\n",
       "      <td>2.954</td>\n",
       "    </tr>\n",
       "    <tr>\n",
       "      <th>ACT</th>\n",
       "      <td>Health Care</td>\n",
       "      <td>213.77</td>\n",
       "      <td>55.188</td>\n",
       "    </tr>\n",
       "  </tbody>\n",
       "</table>\n",
       "</div>"
      ],
      "text/plain": [
       "             Sector   Price  Book Value\n",
       "Symbol                                 \n",
       "MMM     Industrials  141.14      26.668\n",
       "ABBV    Health Care   53.95       2.954\n",
       "ACT     Health Care  213.77      55.188"
      ]
     },
     "execution_count": 17,
     "metadata": {},
     "output_type": "execute_result"
    }
   ],
   "source": [
    "df.iloc[[0,2,5]]"
   ]
  },
  {
   "cell_type": "code",
   "execution_count": null,
   "metadata": {
    "collapsed": true
   },
   "outputs": [],
   "source": []
  },
  {
   "cell_type": "code",
   "execution_count": 20,
   "metadata": {
    "collapsed": false
   },
   "outputs": [
    {
     "data": {
      "text/plain": [
       "Index(['MMM', 'ABT', 'ABBV', 'ACN', 'ACE', 'ACT', 'ADBE', 'AES', 'AET', 'AFL',\n",
       "       ...\n",
       "       'XEL', 'XRX', 'XLNX', 'XL', 'XYL', 'YHOO', 'YUM', 'ZMH', 'ZION', 'ZTS'],\n",
       "      dtype='object', name='Symbol', length=500)"
      ]
     },
     "execution_count": 20,
     "metadata": {},
     "output_type": "execute_result"
    }
   ],
   "source": [
    "df.index"
   ]
  },
  {
   "cell_type": "code",
   "execution_count": 18,
   "metadata": {
    "collapsed": true
   },
   "outputs": [],
   "source": [
    "i1 = df.index.get_loc('MMM')\n",
    "i2 = df.index.get_loc('A')"
   ]
  },
  {
   "cell_type": "code",
   "execution_count": 19,
   "metadata": {
    "collapsed": false
   },
   "outputs": [
    {
     "data": {
      "text/plain": [
       "(0, 10)"
      ]
     },
     "execution_count": 19,
     "metadata": {},
     "output_type": "execute_result"
    }
   ],
   "source": [
    "i1, i2"
   ]
  },
  {
   "cell_type": "code",
   "execution_count": 22,
   "metadata": {
    "collapsed": false
   },
   "outputs": [
    {
     "data": {
      "text/html": [
       "<div>\n",
       "<table border=\"1\" class=\"dataframe\">\n",
       "  <thead>\n",
       "    <tr style=\"text-align: right;\">\n",
       "      <th></th>\n",
       "      <th>Sector</th>\n",
       "      <th>Price</th>\n",
       "      <th>Book Value</th>\n",
       "    </tr>\n",
       "    <tr>\n",
       "      <th>Symbol</th>\n",
       "      <th></th>\n",
       "      <th></th>\n",
       "      <th></th>\n",
       "    </tr>\n",
       "  </thead>\n",
       "  <tbody>\n",
       "    <tr>\n",
       "      <th>MMM</th>\n",
       "      <td>Industrials</td>\n",
       "      <td>141.14</td>\n",
       "      <td>26.668</td>\n",
       "    </tr>\n",
       "    <tr>\n",
       "      <th>A</th>\n",
       "      <td>Health Care</td>\n",
       "      <td>56.18</td>\n",
       "      <td>16.928</td>\n",
       "    </tr>\n",
       "  </tbody>\n",
       "</table>\n",
       "</div>"
      ],
      "text/plain": [
       "             Sector   Price  Book Value\n",
       "Symbol                                 \n",
       "MMM     Industrials  141.14      26.668\n",
       "A       Health Care   56.18      16.928"
      ]
     },
     "execution_count": 22,
     "metadata": {},
     "output_type": "execute_result"
    }
   ],
   "source": [
    "df.iloc[[i1, i2]]"
   ]
  },
  {
   "cell_type": "code",
   "execution_count": null,
   "metadata": {
    "collapsed": true
   },
   "outputs": [],
   "source": []
  },
  {
   "cell_type": "markdown",
   "metadata": {},
   "source": [
    "## Скалярлық мәнді таңдау"
   ]
  },
  {
   "cell_type": "code",
   "execution_count": 23,
   "metadata": {
    "collapsed": false
   },
   "outputs": [
    {
     "data": {
      "text/html": [
       "<div>\n",
       "<table border=\"1\" class=\"dataframe\">\n",
       "  <thead>\n",
       "    <tr style=\"text-align: right;\">\n",
       "      <th></th>\n",
       "      <th>Sector</th>\n",
       "      <th>Price</th>\n",
       "      <th>Book Value</th>\n",
       "    </tr>\n",
       "    <tr>\n",
       "      <th>Symbol</th>\n",
       "      <th></th>\n",
       "      <th></th>\n",
       "      <th></th>\n",
       "    </tr>\n",
       "  </thead>\n",
       "  <tbody>\n",
       "    <tr>\n",
       "      <th>MMM</th>\n",
       "      <td>Industrials</td>\n",
       "      <td>141.14</td>\n",
       "      <td>26.668</td>\n",
       "    </tr>\n",
       "    <tr>\n",
       "      <th>ABT</th>\n",
       "      <td>Health Care</td>\n",
       "      <td>39.60</td>\n",
       "      <td>15.573</td>\n",
       "    </tr>\n",
       "    <tr>\n",
       "      <th>ABBV</th>\n",
       "      <td>Health Care</td>\n",
       "      <td>53.95</td>\n",
       "      <td>2.954</td>\n",
       "    </tr>\n",
       "    <tr>\n",
       "      <th>ACN</th>\n",
       "      <td>Information Technology</td>\n",
       "      <td>79.79</td>\n",
       "      <td>8.326</td>\n",
       "    </tr>\n",
       "    <tr>\n",
       "      <th>ACE</th>\n",
       "      <td>Financials</td>\n",
       "      <td>102.91</td>\n",
       "      <td>86.897</td>\n",
       "    </tr>\n",
       "  </tbody>\n",
       "</table>\n",
       "</div>"
      ],
      "text/plain": [
       "                        Sector   Price  Book Value\n",
       "Symbol                                            \n",
       "MMM                Industrials  141.14      26.668\n",
       "ABT                Health Care   39.60      15.573\n",
       "ABBV               Health Care   53.95       2.954\n",
       "ACN     Information Technology   79.79       8.326\n",
       "ACE                 Financials  102.91      86.897"
      ]
     },
     "execution_count": 23,
     "metadata": {},
     "output_type": "execute_result"
    }
   ],
   "source": [
    "df.head()"
   ]
  },
  {
   "cell_type": "code",
   "execution_count": 24,
   "metadata": {
    "collapsed": false
   },
   "outputs": [
    {
     "data": {
      "text/plain": [
       "141.14"
      ]
     },
     "execution_count": 24,
     "metadata": {},
     "output_type": "execute_result"
    }
   ],
   "source": [
    "df.at['MMM', 'Price']"
   ]
  },
  {
   "cell_type": "code",
   "execution_count": 25,
   "metadata": {
    "collapsed": false
   },
   "outputs": [
    {
     "data": {
      "text/plain": [
       "141.14"
      ]
     },
     "execution_count": 25,
     "metadata": {},
     "output_type": "execute_result"
    }
   ],
   "source": [
    "df.iat[0, 1]"
   ]
  },
  {
   "cell_type": "code",
   "execution_count": null,
   "metadata": {
    "collapsed": true
   },
   "outputs": [],
   "source": []
  },
  {
   "cell_type": "markdown",
   "metadata": {},
   "source": [
    "## DataFrame объектісін қиып алу  (slicing)"
   ]
  },
  {
   "cell_type": "code",
   "execution_count": 26,
   "metadata": {
    "collapsed": false
   },
   "outputs": [
    {
     "data": {
      "text/html": [
       "<div>\n",
       "<table border=\"1\" class=\"dataframe\">\n",
       "  <thead>\n",
       "    <tr style=\"text-align: right;\">\n",
       "      <th></th>\n",
       "      <th>Sector</th>\n",
       "      <th>Price</th>\n",
       "      <th>Book Value</th>\n",
       "    </tr>\n",
       "    <tr>\n",
       "      <th>Symbol</th>\n",
       "      <th></th>\n",
       "      <th></th>\n",
       "      <th></th>\n",
       "    </tr>\n",
       "  </thead>\n",
       "  <tbody>\n",
       "    <tr>\n",
       "      <th>MMM</th>\n",
       "      <td>Industrials</td>\n",
       "      <td>141.14</td>\n",
       "      <td>26.668</td>\n",
       "    </tr>\n",
       "    <tr>\n",
       "      <th>ABT</th>\n",
       "      <td>Health Care</td>\n",
       "      <td>39.60</td>\n",
       "      <td>15.573</td>\n",
       "    </tr>\n",
       "    <tr>\n",
       "      <th>ABBV</th>\n",
       "      <td>Health Care</td>\n",
       "      <td>53.95</td>\n",
       "      <td>2.954</td>\n",
       "    </tr>\n",
       "    <tr>\n",
       "      <th>ACN</th>\n",
       "      <td>Information Technology</td>\n",
       "      <td>79.79</td>\n",
       "      <td>8.326</td>\n",
       "    </tr>\n",
       "    <tr>\n",
       "      <th>ACE</th>\n",
       "      <td>Financials</td>\n",
       "      <td>102.91</td>\n",
       "      <td>86.897</td>\n",
       "    </tr>\n",
       "  </tbody>\n",
       "</table>\n",
       "</div>"
      ],
      "text/plain": [
       "                        Sector   Price  Book Value\n",
       "Symbol                                            \n",
       "MMM                Industrials  141.14      26.668\n",
       "ABT                Health Care   39.60      15.573\n",
       "ABBV               Health Care   53.95       2.954\n",
       "ACN     Information Technology   79.79       8.326\n",
       "ACE                 Financials  102.91      86.897"
      ]
     },
     "execution_count": 26,
     "metadata": {},
     "output_type": "execute_result"
    }
   ],
   "source": [
    "df[0:5]"
   ]
  },
  {
   "cell_type": "code",
   "execution_count": 27,
   "metadata": {
    "collapsed": false
   },
   "outputs": [
    {
     "data": {
      "text/html": [
       "<div>\n",
       "<table border=\"1\" class=\"dataframe\">\n",
       "  <thead>\n",
       "    <tr style=\"text-align: right;\">\n",
       "      <th></th>\n",
       "      <th>Sector</th>\n",
       "      <th>Price</th>\n",
       "      <th>Book Value</th>\n",
       "    </tr>\n",
       "    <tr>\n",
       "      <th>Symbol</th>\n",
       "      <th></th>\n",
       "      <th></th>\n",
       "      <th></th>\n",
       "    </tr>\n",
       "  </thead>\n",
       "  <tbody>\n",
       "    <tr>\n",
       "      <th>ABT</th>\n",
       "      <td>Health Care</td>\n",
       "      <td>39.60</td>\n",
       "      <td>15.573</td>\n",
       "    </tr>\n",
       "    <tr>\n",
       "      <th>ABBV</th>\n",
       "      <td>Health Care</td>\n",
       "      <td>53.95</td>\n",
       "      <td>2.954</td>\n",
       "    </tr>\n",
       "    <tr>\n",
       "      <th>ACN</th>\n",
       "      <td>Information Technology</td>\n",
       "      <td>79.79</td>\n",
       "      <td>8.326</td>\n",
       "    </tr>\n",
       "  </tbody>\n",
       "</table>\n",
       "</div>"
      ],
      "text/plain": [
       "                        Sector  Price  Book Value\n",
       "Symbol                                           \n",
       "ABT                Health Care  39.60      15.573\n",
       "ABBV               Health Care  53.95       2.954\n",
       "ACN     Information Technology  79.79       8.326"
      ]
     },
     "execution_count": 27,
     "metadata": {},
     "output_type": "execute_result"
    }
   ],
   "source": [
    "df['ABT':'ACN']"
   ]
  },
  {
   "cell_type": "code",
   "execution_count": 28,
   "metadata": {
    "collapsed": false
   },
   "outputs": [
    {
     "data": {
      "text/html": [
       "<div>\n",
       "<table border=\"1\" class=\"dataframe\">\n",
       "  <thead>\n",
       "    <tr style=\"text-align: right;\">\n",
       "      <th></th>\n",
       "      <th>Sector</th>\n",
       "      <th>Price</th>\n",
       "      <th>Book Value</th>\n",
       "    </tr>\n",
       "    <tr>\n",
       "      <th>Symbol</th>\n",
       "      <th></th>\n",
       "      <th></th>\n",
       "      <th></th>\n",
       "    </tr>\n",
       "  </thead>\n",
       "  <tbody>\n",
       "    <tr>\n",
       "      <th>MMM</th>\n",
       "      <td>Industrials</td>\n",
       "      <td>141.14</td>\n",
       "      <td>26.668</td>\n",
       "    </tr>\n",
       "    <tr>\n",
       "      <th>ABT</th>\n",
       "      <td>Health Care</td>\n",
       "      <td>39.60</td>\n",
       "      <td>15.573</td>\n",
       "    </tr>\n",
       "    <tr>\n",
       "      <th>ABBV</th>\n",
       "      <td>Health Care</td>\n",
       "      <td>53.95</td>\n",
       "      <td>2.954</td>\n",
       "    </tr>\n",
       "    <tr>\n",
       "      <th>ACN</th>\n",
       "      <td>Information Technology</td>\n",
       "      <td>79.79</td>\n",
       "      <td>8.326</td>\n",
       "    </tr>\n",
       "    <tr>\n",
       "      <th>ACE</th>\n",
       "      <td>Financials</td>\n",
       "      <td>102.91</td>\n",
       "      <td>86.897</td>\n",
       "    </tr>\n",
       "  </tbody>\n",
       "</table>\n",
       "</div>"
      ],
      "text/plain": [
       "                        Sector   Price  Book Value\n",
       "Symbol                                            \n",
       "MMM                Industrials  141.14      26.668\n",
       "ABT                Health Care   39.60      15.573\n",
       "ABBV               Health Care   53.95       2.954\n",
       "ACN     Information Technology   79.79       8.326\n",
       "ACE                 Financials  102.91      86.897"
      ]
     },
     "execution_count": 28,
     "metadata": {},
     "output_type": "execute_result"
    }
   ],
   "source": [
    "df.iloc[0:5]"
   ]
  },
  {
   "cell_type": "code",
   "execution_count": 29,
   "metadata": {
    "collapsed": false
   },
   "outputs": [
    {
     "data": {
      "text/html": [
       "<div>\n",
       "<table border=\"1\" class=\"dataframe\">\n",
       "  <thead>\n",
       "    <tr style=\"text-align: right;\">\n",
       "      <th></th>\n",
       "      <th>Sector</th>\n",
       "      <th>Price</th>\n",
       "      <th>Book Value</th>\n",
       "    </tr>\n",
       "    <tr>\n",
       "      <th>Symbol</th>\n",
       "      <th></th>\n",
       "      <th></th>\n",
       "      <th></th>\n",
       "    </tr>\n",
       "  </thead>\n",
       "  <tbody>\n",
       "    <tr>\n",
       "      <th>ABT</th>\n",
       "      <td>Health Care</td>\n",
       "      <td>39.60</td>\n",
       "      <td>15.573</td>\n",
       "    </tr>\n",
       "    <tr>\n",
       "      <th>ABBV</th>\n",
       "      <td>Health Care</td>\n",
       "      <td>53.95</td>\n",
       "      <td>2.954</td>\n",
       "    </tr>\n",
       "    <tr>\n",
       "      <th>ACN</th>\n",
       "      <td>Information Technology</td>\n",
       "      <td>79.79</td>\n",
       "      <td>8.326</td>\n",
       "    </tr>\n",
       "  </tbody>\n",
       "</table>\n",
       "</div>"
      ],
      "text/plain": [
       "                        Sector  Price  Book Value\n",
       "Symbol                                           \n",
       "ABT                Health Care  39.60      15.573\n",
       "ABBV               Health Care  53.95       2.954\n",
       "ACN     Information Technology  79.79       8.326"
      ]
     },
     "execution_count": 29,
     "metadata": {},
     "output_type": "execute_result"
    }
   ],
   "source": [
    "df.loc['ABT':'ACN']"
   ]
  },
  {
   "cell_type": "code",
   "execution_count": null,
   "metadata": {
    "collapsed": true
   },
   "outputs": [],
   "source": []
  },
  {
   "cell_type": "markdown",
   "metadata": {},
   "source": [
    "## Логикалық таңдау"
   ]
  },
  {
   "cell_type": "code",
   "execution_count": 30,
   "metadata": {
    "collapsed": false
   },
   "outputs": [
    {
     "data": {
      "text/plain": [
       "Symbol\n",
       "MMM     False\n",
       "ABT      True\n",
       "ABBV     True\n",
       "ACN      True\n",
       "ACE     False\n",
       "ACT     False\n",
       "ADBE     True\n",
       "AES      True\n",
       "AET      True\n",
       "AFL      True\n",
       "A        True\n",
       "GAS      True\n",
       "APD     False\n",
       "ARG     False\n",
       "AKAM     True\n",
       "AA       True\n",
       "ALXN    False\n",
       "ATI      True\n",
       "ALLE     True\n",
       "AGN     False\n",
       "ADS     False\n",
       "ALL      True\n",
       "ALTR     True\n",
       "MO       True\n",
       "AMZN    False\n",
       "AEE      True\n",
       "AEP      True\n",
       "AXP      True\n",
       "AIG      True\n",
       "AMT      True\n",
       "        ...  \n",
       "VIAB     True\n",
       "V       False\n",
       "VNO     False\n",
       "VMC      True\n",
       "WMT      True\n",
       "WAG      True\n",
       "DIS      True\n",
       "WM       True\n",
       "WAT     False\n",
       "WLP     False\n",
       "WFC      True\n",
       "WDC      True\n",
       "WU       True\n",
       "WY       True\n",
       "WHR     False\n",
       "WFM      True\n",
       "WIN      True\n",
       "WEC      True\n",
       "WYN      True\n",
       "WYNN    False\n",
       "XEL      True\n",
       "XRX      True\n",
       "XLNX     True\n",
       "XL       True\n",
       "XYL      True\n",
       "YHOO     True\n",
       "YUM      True\n",
       "ZMH     False\n",
       "ZION     True\n",
       "ZTS      True\n",
       "Name: Price, dtype: bool"
      ]
     },
     "execution_count": 30,
     "metadata": {},
     "output_type": "execute_result"
    }
   ],
   "source": [
    "df.Price < 100"
   ]
  },
  {
   "cell_type": "code",
   "execution_count": 31,
   "metadata": {
    "collapsed": false
   },
   "outputs": [
    {
     "data": {
      "text/plain": [
       "Symbol\n",
       "MMM     False\n",
       "ABT      True\n",
       "ABBV     True\n",
       "ACN      True\n",
       "ACE     False\n",
       "ACT     False\n",
       "ADBE     True\n",
       "AES      True\n",
       "AET      True\n",
       "AFL      True\n",
       "A        True\n",
       "GAS      True\n",
       "APD     False\n",
       "ARG     False\n",
       "AKAM     True\n",
       "AA       True\n",
       "ALXN    False\n",
       "ATI      True\n",
       "ALLE     True\n",
       "AGN     False\n",
       "ADS     False\n",
       "ALL      True\n",
       "ALTR     True\n",
       "MO       True\n",
       "AMZN    False\n",
       "AEE      True\n",
       "AEP      True\n",
       "AXP      True\n",
       "AIG      True\n",
       "AMT      True\n",
       "        ...  \n",
       "VIAB     True\n",
       "V       False\n",
       "VNO     False\n",
       "VMC      True\n",
       "WMT      True\n",
       "WAG      True\n",
       "DIS      True\n",
       "WM       True\n",
       "WAT     False\n",
       "WLP     False\n",
       "WFC      True\n",
       "WDC      True\n",
       "WU       True\n",
       "WY       True\n",
       "WHR     False\n",
       "WFM      True\n",
       "WIN      True\n",
       "WEC      True\n",
       "WYN      True\n",
       "WYNN    False\n",
       "XEL      True\n",
       "XRX      True\n",
       "XLNX     True\n",
       "XL       True\n",
       "XYL      True\n",
       "YHOO     True\n",
       "YUM      True\n",
       "ZMH     False\n",
       "ZION     True\n",
       "ZTS      True\n",
       "Name: Price, dtype: bool"
      ]
     },
     "execution_count": 31,
     "metadata": {},
     "output_type": "execute_result"
    }
   ],
   "source": [
    "df['Price'] < 100"
   ]
  },
  {
   "cell_type": "code",
   "execution_count": 33,
   "metadata": {
    "collapsed": false
   },
   "outputs": [
    {
     "data": {
      "text/html": [
       "<div>\n",
       "<table border=\"1\" class=\"dataframe\">\n",
       "  <thead>\n",
       "    <tr style=\"text-align: right;\">\n",
       "      <th></th>\n",
       "      <th>Sector</th>\n",
       "      <th>Price</th>\n",
       "      <th>Book Value</th>\n",
       "    </tr>\n",
       "    <tr>\n",
       "      <th>Symbol</th>\n",
       "      <th></th>\n",
       "      <th></th>\n",
       "      <th></th>\n",
       "    </tr>\n",
       "  </thead>\n",
       "  <tbody>\n",
       "    <tr>\n",
       "      <th>ABT</th>\n",
       "      <td>Health Care</td>\n",
       "      <td>39.60</td>\n",
       "      <td>15.573</td>\n",
       "    </tr>\n",
       "    <tr>\n",
       "      <th>AES</th>\n",
       "      <td>Utilities</td>\n",
       "      <td>13.61</td>\n",
       "      <td>5.781</td>\n",
       "    </tr>\n",
       "    <tr>\n",
       "      <th>AA</th>\n",
       "      <td>Materials</td>\n",
       "      <td>13.52</td>\n",
       "      <td>9.670</td>\n",
       "    </tr>\n",
       "    <tr>\n",
       "      <th>ATI</th>\n",
       "      <td>Materials</td>\n",
       "      <td>40.99</td>\n",
       "      <td>26.401</td>\n",
       "    </tr>\n",
       "    <tr>\n",
       "      <th>ALTR</th>\n",
       "      <td>Information Technology</td>\n",
       "      <td>33.31</td>\n",
       "      <td>11.026</td>\n",
       "    </tr>\n",
       "    <tr>\n",
       "      <th>MO</th>\n",
       "      <td>Consumer Staples</td>\n",
       "      <td>40.68</td>\n",
       "      <td>2.072</td>\n",
       "    </tr>\n",
       "    <tr>\n",
       "      <th>AEE</th>\n",
       "      <td>Utilities</td>\n",
       "      <td>38.64</td>\n",
       "      <td>26.847</td>\n",
       "    </tr>\n",
       "    <tr>\n",
       "      <th>AIV</th>\n",
       "      <td>Financials</td>\n",
       "      <td>31.24</td>\n",
       "      <td>6.331</td>\n",
       "    </tr>\n",
       "    <tr>\n",
       "      <th>AMAT</th>\n",
       "      <td>Information Technology</td>\n",
       "      <td>20.04</td>\n",
       "      <td>6.147</td>\n",
       "    </tr>\n",
       "    <tr>\n",
       "      <th>ADM</th>\n",
       "      <td>Consumer Staples</td>\n",
       "      <td>43.56</td>\n",
       "      <td>30.569</td>\n",
       "    </tr>\n",
       "    <tr>\n",
       "      <th>T</th>\n",
       "      <td>Telecommunications Services</td>\n",
       "      <td>35.32</td>\n",
       "      <td>17.500</td>\n",
       "    </tr>\n",
       "    <tr>\n",
       "      <th>AVY</th>\n",
       "      <td>Industrials</td>\n",
       "      <td>48.20</td>\n",
       "      <td>15.616</td>\n",
       "    </tr>\n",
       "    <tr>\n",
       "      <th>AVP</th>\n",
       "      <td>Consumer Staples</td>\n",
       "      <td>14.14</td>\n",
       "      <td>2.108</td>\n",
       "    </tr>\n",
       "    <tr>\n",
       "      <th>BAC</th>\n",
       "      <td>Financials</td>\n",
       "      <td>14.72</td>\n",
       "      <td>20.754</td>\n",
       "    </tr>\n",
       "    <tr>\n",
       "      <th>BBT</th>\n",
       "      <td>Financials</td>\n",
       "      <td>37.73</td>\n",
       "      <td>29.031</td>\n",
       "    </tr>\n",
       "    <tr>\n",
       "      <th>BEAM</th>\n",
       "      <td>Consumer Discretionary</td>\n",
       "      <td>0.00</td>\n",
       "      <td>NaN</td>\n",
       "    </tr>\n",
       "    <tr>\n",
       "      <th>BMS</th>\n",
       "      <td>Materials</td>\n",
       "      <td>40.69</td>\n",
       "      <td>16.620</td>\n",
       "    </tr>\n",
       "    <tr>\n",
       "      <th>BBY</th>\n",
       "      <td>Consumer Discretionary</td>\n",
       "      <td>27.01</td>\n",
       "      <td>12.735</td>\n",
       "    </tr>\n",
       "    <tr>\n",
       "      <th>HRB</th>\n",
       "      <td>Consumer Discretionary</td>\n",
       "      <td>29.38</td>\n",
       "      <td>2.504</td>\n",
       "    </tr>\n",
       "    <tr>\n",
       "      <th>BSX</th>\n",
       "      <td>Health Care</td>\n",
       "      <td>12.83</td>\n",
       "      <td>4.941</td>\n",
       "    </tr>\n",
       "    <tr>\n",
       "      <th>BMY</th>\n",
       "      <td>Health Care</td>\n",
       "      <td>48.79</td>\n",
       "      <td>9.337</td>\n",
       "    </tr>\n",
       "    <tr>\n",
       "      <th>BRCM</th>\n",
       "      <td>Information Technology</td>\n",
       "      <td>30.64</td>\n",
       "      <td>14.716</td>\n",
       "    </tr>\n",
       "    <tr>\n",
       "      <th>CA</th>\n",
       "      <td>Information Technology</td>\n",
       "      <td>29.19</td>\n",
       "      <td>12.695</td>\n",
       "    </tr>\n",
       "    <tr>\n",
       "      <th>CVC</th>\n",
       "      <td>Consumer Discretionary</td>\n",
       "      <td>17.45</td>\n",
       "      <td>-19.304</td>\n",
       "    </tr>\n",
       "    <tr>\n",
       "      <th>COG</th>\n",
       "      <td>Energy</td>\n",
       "      <td>35.77</td>\n",
       "      <td>5.437</td>\n",
       "    </tr>\n",
       "    <tr>\n",
       "      <th>CPB</th>\n",
       "      <td>Consumer Staples</td>\n",
       "      <td>44.06</td>\n",
       "      <td>5.067</td>\n",
       "    </tr>\n",
       "    <tr>\n",
       "      <th>CFN</th>\n",
       "      <td>Health Care</td>\n",
       "      <td>42.25</td>\n",
       "      <td>26.016</td>\n",
       "    </tr>\n",
       "    <tr>\n",
       "      <th>KMX</th>\n",
       "      <td>Consumer Discretionary</td>\n",
       "      <td>44.70</td>\n",
       "      <td>14.963</td>\n",
       "    </tr>\n",
       "    <tr>\n",
       "      <th>CCL</th>\n",
       "      <td>Consumer Discretionary</td>\n",
       "      <td>40.02</td>\n",
       "      <td>31.493</td>\n",
       "    </tr>\n",
       "    <tr>\n",
       "      <th>CBG</th>\n",
       "      <td>Financials</td>\n",
       "      <td>29.15</td>\n",
       "      <td>6.028</td>\n",
       "    </tr>\n",
       "    <tr>\n",
       "      <th>...</th>\n",
       "      <td>...</td>\n",
       "      <td>...</td>\n",
       "      <td>...</td>\n",
       "    </tr>\n",
       "    <tr>\n",
       "      <th>TXN</th>\n",
       "      <td>Information Technology</td>\n",
       "      <td>46.25</td>\n",
       "      <td>9.839</td>\n",
       "    </tr>\n",
       "    <tr>\n",
       "      <th>TXT</th>\n",
       "      <td>Industrials</td>\n",
       "      <td>38.78</td>\n",
       "      <td>15.644</td>\n",
       "    </tr>\n",
       "    <tr>\n",
       "      <th>ADT</th>\n",
       "      <td>Industrials</td>\n",
       "      <td>32.89</td>\n",
       "      <td>17.627</td>\n",
       "    </tr>\n",
       "    <tr>\n",
       "      <th>BK</th>\n",
       "      <td>Financials</td>\n",
       "      <td>34.59</td>\n",
       "      <td>31.940</td>\n",
       "    </tr>\n",
       "    <tr>\n",
       "      <th>WMB</th>\n",
       "      <td>Energy</td>\n",
       "      <td>46.87</td>\n",
       "      <td>6.739</td>\n",
       "    </tr>\n",
       "    <tr>\n",
       "      <th>TSS</th>\n",
       "      <td>Information Technology</td>\n",
       "      <td>30.73</td>\n",
       "      <td>8.512</td>\n",
       "    </tr>\n",
       "    <tr>\n",
       "      <th>RIG</th>\n",
       "      <td>Energy</td>\n",
       "      <td>42.55</td>\n",
       "      <td>47.436</td>\n",
       "    </tr>\n",
       "    <tr>\n",
       "      <th>FOXA</th>\n",
       "      <td>Consumer Discretionary</td>\n",
       "      <td>34.95</td>\n",
       "      <td>7.807</td>\n",
       "    </tr>\n",
       "    <tr>\n",
       "      <th>TYC</th>\n",
       "      <td>Industrials</td>\n",
       "      <td>43.29</td>\n",
       "      <td>10.913</td>\n",
       "    </tr>\n",
       "    <tr>\n",
       "      <th>TSN</th>\n",
       "      <td>Consumer Staples</td>\n",
       "      <td>39.72</td>\n",
       "      <td>18.472</td>\n",
       "    </tr>\n",
       "    <tr>\n",
       "      <th>X</th>\n",
       "      <td>Materials</td>\n",
       "      <td>24.08</td>\n",
       "      <td>23.844</td>\n",
       "    </tr>\n",
       "    <tr>\n",
       "      <th>UNM</th>\n",
       "      <td>Financials</td>\n",
       "      <td>33.46</td>\n",
       "      <td>34.771</td>\n",
       "    </tr>\n",
       "    <tr>\n",
       "      <th>URBN</th>\n",
       "      <td>Consumer Discretionary</td>\n",
       "      <td>32.54</td>\n",
       "      <td>10.072</td>\n",
       "    </tr>\n",
       "    <tr>\n",
       "      <th>USB</th>\n",
       "      <td>Financials</td>\n",
       "      <td>41.45</td>\n",
       "      <td>20.482</td>\n",
       "    </tr>\n",
       "    <tr>\n",
       "      <th>VRSN</th>\n",
       "      <td>Information Technology</td>\n",
       "      <td>49.92</td>\n",
       "      <td>-3.467</td>\n",
       "    </tr>\n",
       "    <tr>\n",
       "      <th>VZ</th>\n",
       "      <td>Telecommunications Services</td>\n",
       "      <td>49.74</td>\n",
       "      <td>3.069</td>\n",
       "    </tr>\n",
       "    <tr>\n",
       "      <th>WM</th>\n",
       "      <td>Industrials</td>\n",
       "      <td>43.37</td>\n",
       "      <td>12.330</td>\n",
       "    </tr>\n",
       "    <tr>\n",
       "      <th>WU</th>\n",
       "      <td>Information Technology</td>\n",
       "      <td>15.77</td>\n",
       "      <td>1.981</td>\n",
       "    </tr>\n",
       "    <tr>\n",
       "      <th>WY</th>\n",
       "      <td>Financials</td>\n",
       "      <td>30.87</td>\n",
       "      <td>11.690</td>\n",
       "    </tr>\n",
       "    <tr>\n",
       "      <th>WFM</th>\n",
       "      <td>Consumer Staples</td>\n",
       "      <td>37.78</td>\n",
       "      <td>10.867</td>\n",
       "    </tr>\n",
       "    <tr>\n",
       "      <th>WIN</th>\n",
       "      <td>Telecommunications Services</td>\n",
       "      <td>9.38</td>\n",
       "      <td>1.199</td>\n",
       "    </tr>\n",
       "    <tr>\n",
       "      <th>WEC</th>\n",
       "      <td>Utilities</td>\n",
       "      <td>45.13</td>\n",
       "      <td>19.165</td>\n",
       "    </tr>\n",
       "    <tr>\n",
       "      <th>XEL</th>\n",
       "      <td>Utilities</td>\n",
       "      <td>30.24</td>\n",
       "      <td>19.450</td>\n",
       "    </tr>\n",
       "    <tr>\n",
       "      <th>XRX</th>\n",
       "      <td>Information Technology</td>\n",
       "      <td>12.06</td>\n",
       "      <td>10.471</td>\n",
       "    </tr>\n",
       "    <tr>\n",
       "      <th>XLNX</th>\n",
       "      <td>Information Technology</td>\n",
       "      <td>46.03</td>\n",
       "      <td>10.247</td>\n",
       "    </tr>\n",
       "    <tr>\n",
       "      <th>XL</th>\n",
       "      <td>Financials</td>\n",
       "      <td>32.47</td>\n",
       "      <td>37.451</td>\n",
       "    </tr>\n",
       "    <tr>\n",
       "      <th>XYL</th>\n",
       "      <td>Industrials</td>\n",
       "      <td>38.42</td>\n",
       "      <td>12.127</td>\n",
       "    </tr>\n",
       "    <tr>\n",
       "      <th>YHOO</th>\n",
       "      <td>Information Technology</td>\n",
       "      <td>35.02</td>\n",
       "      <td>12.768</td>\n",
       "    </tr>\n",
       "    <tr>\n",
       "      <th>ZION</th>\n",
       "      <td>Financials</td>\n",
       "      <td>28.43</td>\n",
       "      <td>30.191</td>\n",
       "    </tr>\n",
       "    <tr>\n",
       "      <th>ZTS</th>\n",
       "      <td>Health Care</td>\n",
       "      <td>30.53</td>\n",
       "      <td>2.150</td>\n",
       "    </tr>\n",
       "  </tbody>\n",
       "</table>\n",
       "<p>196 rows × 3 columns</p>\n",
       "</div>"
      ],
      "text/plain": [
       "                             Sector  Price  Book Value\n",
       "Symbol                                                \n",
       "ABT                     Health Care  39.60      15.573\n",
       "AES                       Utilities  13.61       5.781\n",
       "AA                        Materials  13.52       9.670\n",
       "ATI                       Materials  40.99      26.401\n",
       "ALTR         Information Technology  33.31      11.026\n",
       "MO                 Consumer Staples  40.68       2.072\n",
       "AEE                       Utilities  38.64      26.847\n",
       "AIV                      Financials  31.24       6.331\n",
       "AMAT         Information Technology  20.04       6.147\n",
       "ADM                Consumer Staples  43.56      30.569\n",
       "T       Telecommunications Services  35.32      17.500\n",
       "AVY                     Industrials  48.20      15.616\n",
       "AVP                Consumer Staples  14.14       2.108\n",
       "BAC                      Financials  14.72      20.754\n",
       "BBT                      Financials  37.73      29.031\n",
       "BEAM         Consumer Discretionary   0.00         NaN\n",
       "BMS                       Materials  40.69      16.620\n",
       "BBY          Consumer Discretionary  27.01      12.735\n",
       "HRB          Consumer Discretionary  29.38       2.504\n",
       "BSX                     Health Care  12.83       4.941\n",
       "BMY                     Health Care  48.79       9.337\n",
       "BRCM         Information Technology  30.64      14.716\n",
       "CA           Information Technology  29.19      12.695\n",
       "CVC          Consumer Discretionary  17.45     -19.304\n",
       "COG                          Energy  35.77       5.437\n",
       "CPB                Consumer Staples  44.06       5.067\n",
       "CFN                     Health Care  42.25      26.016\n",
       "KMX          Consumer Discretionary  44.70      14.963\n",
       "CCL          Consumer Discretionary  40.02      31.493\n",
       "CBG                      Financials  29.15       6.028\n",
       "...                             ...    ...         ...\n",
       "TXN          Information Technology  46.25       9.839\n",
       "TXT                     Industrials  38.78      15.644\n",
       "ADT                     Industrials  32.89      17.627\n",
       "BK                       Financials  34.59      31.940\n",
       "WMB                          Energy  46.87       6.739\n",
       "TSS          Information Technology  30.73       8.512\n",
       "RIG                          Energy  42.55      47.436\n",
       "FOXA         Consumer Discretionary  34.95       7.807\n",
       "TYC                     Industrials  43.29      10.913\n",
       "TSN                Consumer Staples  39.72      18.472\n",
       "X                         Materials  24.08      23.844\n",
       "UNM                      Financials  33.46      34.771\n",
       "URBN         Consumer Discretionary  32.54      10.072\n",
       "USB                      Financials  41.45      20.482\n",
       "VRSN         Information Technology  49.92      -3.467\n",
       "VZ      Telecommunications Services  49.74       3.069\n",
       "WM                      Industrials  43.37      12.330\n",
       "WU           Information Technology  15.77       1.981\n",
       "WY                       Financials  30.87      11.690\n",
       "WFM                Consumer Staples  37.78      10.867\n",
       "WIN     Telecommunications Services   9.38       1.199\n",
       "WEC                       Utilities  45.13      19.165\n",
       "XEL                       Utilities  30.24      19.450\n",
       "XRX          Information Technology  12.06      10.471\n",
       "XLNX         Information Technology  46.03      10.247\n",
       "XL                       Financials  32.47      37.451\n",
       "XYL                     Industrials  38.42      12.127\n",
       "YHOO         Information Technology  35.02      12.768\n",
       "ZION                     Financials  28.43      30.191\n",
       "ZTS                     Health Care  30.53       2.150\n",
       "\n",
       "[196 rows x 3 columns]"
      ]
     },
     "execution_count": 33,
     "metadata": {},
     "output_type": "execute_result"
    }
   ],
   "source": [
    "df[df.Price < 50]"
   ]
  },
  {
   "cell_type": "code",
   "execution_count": 34,
   "metadata": {
    "collapsed": false
   },
   "outputs": [
    {
     "data": {
      "text/html": [
       "<div>\n",
       "<table border=\"1\" class=\"dataframe\">\n",
       "  <thead>\n",
       "    <tr style=\"text-align: right;\">\n",
       "      <th></th>\n",
       "      <th>Sector</th>\n",
       "      <th>Price</th>\n",
       "      <th>Book Value</th>\n",
       "    </tr>\n",
       "    <tr>\n",
       "      <th>Symbol</th>\n",
       "      <th></th>\n",
       "      <th></th>\n",
       "      <th></th>\n",
       "    </tr>\n",
       "  </thead>\n",
       "  <tbody>\n",
       "    <tr>\n",
       "      <th>HCBK</th>\n",
       "      <td>Financials</td>\n",
       "      <td>9.80</td>\n",
       "      <td>9.596</td>\n",
       "    </tr>\n",
       "    <tr>\n",
       "      <th>HBAN</th>\n",
       "      <td>Financials</td>\n",
       "      <td>9.10</td>\n",
       "      <td>6.995</td>\n",
       "    </tr>\n",
       "    <tr>\n",
       "      <th>SLM</th>\n",
       "      <td>Financials</td>\n",
       "      <td>8.82</td>\n",
       "      <td>11.895</td>\n",
       "    </tr>\n",
       "    <tr>\n",
       "      <th>WIN</th>\n",
       "      <td>Telecommunications Services</td>\n",
       "      <td>9.38</td>\n",
       "      <td>1.199</td>\n",
       "    </tr>\n",
       "  </tbody>\n",
       "</table>\n",
       "</div>"
      ],
      "text/plain": [
       "                             Sector  Price  Book Value\n",
       "Symbol                                                \n",
       "HCBK                     Financials   9.80       9.596\n",
       "HBAN                     Financials   9.10       6.995\n",
       "SLM                      Financials   8.82      11.895\n",
       "WIN     Telecommunications Services   9.38       1.199"
      ]
     },
     "execution_count": 34,
     "metadata": {},
     "output_type": "execute_result"
    }
   ],
   "source": [
    "df[(df.Price < 10) & (df.Price > 6)]"
   ]
  },
  {
   "cell_type": "code",
   "execution_count": 35,
   "metadata": {
    "collapsed": false
   },
   "outputs": [
    {
     "data": {
      "text/plain": [
       "Symbol\n",
       "HCBK    9.80\n",
       "HBAN    9.10\n",
       "SLM     8.82\n",
       "WIN     9.38\n",
       "Name: Price, dtype: float64"
      ]
     },
     "execution_count": 35,
     "metadata": {},
     "output_type": "execute_result"
    }
   ],
   "source": [
    "df[(df.Price < 10) & (df.Price > 6)]['Price']"
   ]
  },
  {
   "cell_type": "code",
   "execution_count": 36,
   "metadata": {
    "collapsed": false
   },
   "outputs": [
    {
     "data": {
      "text/html": [
       "<div>\n",
       "<table border=\"1\" class=\"dataframe\">\n",
       "  <thead>\n",
       "    <tr style=\"text-align: right;\">\n",
       "      <th></th>\n",
       "      <th>Price</th>\n",
       "      <th>Sector</th>\n",
       "    </tr>\n",
       "    <tr>\n",
       "      <th>Symbol</th>\n",
       "      <th></th>\n",
       "      <th></th>\n",
       "    </tr>\n",
       "  </thead>\n",
       "  <tbody>\n",
       "    <tr>\n",
       "      <th>ACT</th>\n",
       "      <td>213.77</td>\n",
       "      <td>Health Care</td>\n",
       "    </tr>\n",
       "    <tr>\n",
       "      <th>ALXN</th>\n",
       "      <td>162.30</td>\n",
       "      <td>Health Care</td>\n",
       "    </tr>\n",
       "    <tr>\n",
       "      <th>AGN</th>\n",
       "      <td>166.92</td>\n",
       "      <td>Health Care</td>\n",
       "    </tr>\n",
       "    <tr>\n",
       "      <th>AMGN</th>\n",
       "      <td>114.33</td>\n",
       "      <td>Health Care</td>\n",
       "    </tr>\n",
       "    <tr>\n",
       "      <th>BCR</th>\n",
       "      <td>146.62</td>\n",
       "      <td>Health Care</td>\n",
       "    </tr>\n",
       "    <tr>\n",
       "      <th>BDX</th>\n",
       "      <td>115.70</td>\n",
       "      <td>Health Care</td>\n",
       "    </tr>\n",
       "    <tr>\n",
       "      <th>BIIB</th>\n",
       "      <td>299.71</td>\n",
       "      <td>Health Care</td>\n",
       "    </tr>\n",
       "    <tr>\n",
       "      <th>CELG</th>\n",
       "      <td>150.13</td>\n",
       "      <td>Health Care</td>\n",
       "    </tr>\n",
       "    <tr>\n",
       "      <th>HUM</th>\n",
       "      <td>124.49</td>\n",
       "      <td>Health Care</td>\n",
       "    </tr>\n",
       "    <tr>\n",
       "      <th>ISRG</th>\n",
       "      <td>363.86</td>\n",
       "      <td>Health Care</td>\n",
       "    </tr>\n",
       "    <tr>\n",
       "      <th>JNJ</th>\n",
       "      <td>100.98</td>\n",
       "      <td>Health Care</td>\n",
       "    </tr>\n",
       "    <tr>\n",
       "      <th>LH</th>\n",
       "      <td>100.75</td>\n",
       "      <td>Health Care</td>\n",
       "    </tr>\n",
       "    <tr>\n",
       "      <th>MCK</th>\n",
       "      <td>183.75</td>\n",
       "      <td>Health Care</td>\n",
       "    </tr>\n",
       "    <tr>\n",
       "      <th>PRGO</th>\n",
       "      <td>138.63</td>\n",
       "      <td>Health Care</td>\n",
       "    </tr>\n",
       "    <tr>\n",
       "      <th>REGN</th>\n",
       "      <td>297.77</td>\n",
       "      <td>Health Care</td>\n",
       "    </tr>\n",
       "    <tr>\n",
       "      <th>TMO</th>\n",
       "      <td>115.74</td>\n",
       "      <td>Health Care</td>\n",
       "    </tr>\n",
       "    <tr>\n",
       "      <th>WAT</th>\n",
       "      <td>100.54</td>\n",
       "      <td>Health Care</td>\n",
       "    </tr>\n",
       "    <tr>\n",
       "      <th>WLP</th>\n",
       "      <td>108.82</td>\n",
       "      <td>Health Care</td>\n",
       "    </tr>\n",
       "    <tr>\n",
       "      <th>ZMH</th>\n",
       "      <td>101.84</td>\n",
       "      <td>Health Care</td>\n",
       "    </tr>\n",
       "  </tbody>\n",
       "</table>\n",
       "</div>"
      ],
      "text/plain": [
       "         Price       Sector\n",
       "Symbol                     \n",
       "ACT     213.77  Health Care\n",
       "ALXN    162.30  Health Care\n",
       "AGN     166.92  Health Care\n",
       "AMGN    114.33  Health Care\n",
       "BCR     146.62  Health Care\n",
       "BDX     115.70  Health Care\n",
       "BIIB    299.71  Health Care\n",
       "CELG    150.13  Health Care\n",
       "HUM     124.49  Health Care\n",
       "ISRG    363.86  Health Care\n",
       "JNJ     100.98  Health Care\n",
       "LH      100.75  Health Care\n",
       "MCK     183.75  Health Care\n",
       "PRGO    138.63  Health Care\n",
       "REGN    297.77  Health Care\n",
       "TMO     115.74  Health Care\n",
       "WAT     100.54  Health Care\n",
       "WLP     108.82  Health Care\n",
       "ZMH     101.84  Health Care"
      ]
     },
     "execution_count": 36,
     "metadata": {},
     "output_type": "execute_result"
    }
   ],
   "source": [
    "df[(df.Sector == \"Health Care\") & (df.Price > 100)][['Price', 'Sector']]"
   ]
  },
  {
   "cell_type": "code",
   "execution_count": null,
   "metadata": {
    "collapsed": true
   },
   "outputs": [],
   "source": []
  },
  {
   "cell_type": "markdown",
   "metadata": {},
   "source": [
    "## Жолдар мен бағандарды бірге таңдау"
   ]
  },
  {
   "cell_type": "code",
   "execution_count": 37,
   "metadata": {
    "collapsed": false
   },
   "outputs": [
    {
     "data": {
      "text/html": [
       "<div>\n",
       "<table border=\"1\" class=\"dataframe\">\n",
       "  <thead>\n",
       "    <tr style=\"text-align: right;\">\n",
       "      <th></th>\n",
       "      <th>Sector</th>\n",
       "      <th>Price</th>\n",
       "    </tr>\n",
       "    <tr>\n",
       "      <th>Symbol</th>\n",
       "      <th></th>\n",
       "      <th></th>\n",
       "    </tr>\n",
       "  </thead>\n",
       "  <tbody>\n",
       "    <tr>\n",
       "      <th>ABT</th>\n",
       "      <td>Health Care</td>\n",
       "      <td>39.60</td>\n",
       "    </tr>\n",
       "    <tr>\n",
       "      <th>ZTS</th>\n",
       "      <td>Health Care</td>\n",
       "      <td>30.53</td>\n",
       "    </tr>\n",
       "  </tbody>\n",
       "</table>\n",
       "</div>"
      ],
      "text/plain": [
       "             Sector  Price\n",
       "Symbol                    \n",
       "ABT     Health Care  39.60\n",
       "ZTS     Health Care  30.53"
      ]
     },
     "execution_count": 37,
     "metadata": {},
     "output_type": "execute_result"
    }
   ],
   "source": [
    "df.loc[['ABT', 'ZTS']][['Sector', 'Price']]"
   ]
  },
  {
   "cell_type": "code",
   "execution_count": null,
   "metadata": {
    "collapsed": true
   },
   "outputs": [],
   "source": []
  }
 ],
 "metadata": {
  "kernelspec": {
   "display_name": "Python 3",
   "language": "python",
   "name": "python3"
  },
  "language_info": {
   "codemirror_mode": {
    "name": "ipython",
    "version": 3
   },
   "file_extension": ".py",
   "mimetype": "text/x-python",
   "name": "python",
   "nbconvert_exporter": "python",
   "pygments_lexer": "ipython3",
   "version": "3.6.3"
  }
 },
 "nbformat": 4,
 "nbformat_minor": 2
}
