{
 "cells": [
  {
   "cell_type": "code",
   "execution_count": 1,
   "metadata": {
    "collapsed": true
   },
   "outputs": [],
   "source": [
    "import pandas as pd"
   ]
  },
  {
   "cell_type": "markdown",
   "metadata": {},
   "source": [
    "## Series sort_values() method"
   ]
  },
  {
   "cell_type": "code",
   "execution_count": 2,
   "metadata": {
    "collapsed": true
   },
   "outputs": [],
   "source": [
    "pokemon = pd.read_csv('datasets/pokemon.csv', usecols = ['Pokemon'], squeeze = True)\n",
    "google = pd.read_csv('datasets/google_stock_price.csv', squeeze = True)"
   ]
  },
  {
   "cell_type": "code",
   "execution_count": 3,
   "metadata": {
    "collapsed": false
   },
   "outputs": [
    {
     "data": {
      "text/plain": [
       "459     Abomasnow\n",
       "62           Abra\n",
       "358         Absol\n",
       "616      Accelgor\n",
       "680     Aegislash\n",
       "141    Aerodactyl\n",
       "305        Aggron\n",
       "189         Aipom\n",
       "64       Alakazam\n",
       "593     Alomomola\n",
       "333       Altaria\n",
       "697        Amaura\n",
       "423       Ambipom\n",
       "590     Amoonguss\n",
       "180      Ampharos\n",
       "346       Anorith\n",
       "23          Arbok\n",
       "58       Arcanine\n",
       "492        Arceus\n",
       "565        Archen\n",
       "566      Archeops\n",
       "167       Ariados\n",
       "347       Armaldo\n",
       "682    Aromatisse\n",
       "303          Aron\n",
       "143      Articuno\n",
       "530        Audino\n",
       "698       Aurorus\n",
       "712       Avalugg\n",
       "609          Axew\n",
       "          ...    \n",
       "69     Weepinbell\n",
       "109       Weezing\n",
       "546    Whimsicott\n",
       "543    Whirlipede\n",
       "339      Whiscash\n",
       "292       Whismur\n",
       "39     Wigglytuff\n",
       "277       Wingull\n",
       "201     Wobbuffet\n",
       "526        Woobat\n",
       "193        Wooper\n",
       "412      Wormadam\n",
       "264       Wurmple\n",
       "359        Wynaut\n",
       "177          Xatu\n",
       "715       Xerneas\n",
       "561        Yamask\n",
       "192         Yanma\n",
       "468       Yanmega\n",
       "716       Yveltal\n",
       "334      Zangoose\n",
       "144        Zapdos\n",
       "522     Zebstrika\n",
       "643        Zekrom\n",
       "262     Zigzagoon\n",
       "570       Zoroark\n",
       "569         Zorua\n",
       "40          Zubat\n",
       "633      Zweilous\n",
       "717       Zygarde\n",
       "Name: Pokemon, dtype: object"
      ]
     },
     "execution_count": 3,
     "metadata": {},
     "output_type": "execute_result"
    }
   ],
   "source": [
    "pokemon.sort_values()"
   ]
  },
  {
   "cell_type": "code",
   "execution_count": 4,
   "metadata": {
    "collapsed": false
   },
   "outputs": [
    {
     "data": {
      "text/plain": [
       "717       Zygarde\n",
       "633      Zweilous\n",
       "40          Zubat\n",
       "569         Zorua\n",
       "570       Zoroark\n",
       "262     Zigzagoon\n",
       "643        Zekrom\n",
       "522     Zebstrika\n",
       "144        Zapdos\n",
       "334      Zangoose\n",
       "716       Yveltal\n",
       "468       Yanmega\n",
       "192         Yanma\n",
       "561        Yamask\n",
       "715       Xerneas\n",
       "177          Xatu\n",
       "359        Wynaut\n",
       "264       Wurmple\n",
       "412      Wormadam\n",
       "193        Wooper\n",
       "526        Woobat\n",
       "201     Wobbuffet\n",
       "277       Wingull\n",
       "39     Wigglytuff\n",
       "292       Whismur\n",
       "339      Whiscash\n",
       "543    Whirlipede\n",
       "546    Whimsicott\n",
       "109       Weezing\n",
       "69     Weepinbell\n",
       "          ...    \n",
       "609          Axew\n",
       "712       Avalugg\n",
       "698       Aurorus\n",
       "530        Audino\n",
       "143      Articuno\n",
       "303          Aron\n",
       "682    Aromatisse\n",
       "347       Armaldo\n",
       "167       Ariados\n",
       "566      Archeops\n",
       "565        Archen\n",
       "492        Arceus\n",
       "58       Arcanine\n",
       "23          Arbok\n",
       "346       Anorith\n",
       "180      Ampharos\n",
       "590     Amoonguss\n",
       "423       Ambipom\n",
       "697        Amaura\n",
       "333       Altaria\n",
       "593     Alomomola\n",
       "64       Alakazam\n",
       "189         Aipom\n",
       "305        Aggron\n",
       "141    Aerodactyl\n",
       "680     Aegislash\n",
       "616      Accelgor\n",
       "358         Absol\n",
       "62           Abra\n",
       "459     Abomasnow\n",
       "Name: Pokemon, dtype: object"
      ]
     },
     "execution_count": 4,
     "metadata": {},
     "output_type": "execute_result"
    }
   ],
   "source": [
    "pokemon.sort_values(ascending = False)"
   ]
  },
  {
   "cell_type": "markdown",
   "metadata": {},
   "source": [
    "## Inplace Parameter"
   ]
  },
  {
   "cell_type": "code",
   "execution_count": 6,
   "metadata": {
    "collapsed": false
   },
   "outputs": [
    {
     "data": {
      "text/plain": [
       "0    50.12\n",
       "1    54.10\n",
       "2    54.65\n",
       "Name: Stock Price, dtype: float64"
      ]
     },
     "execution_count": 6,
     "metadata": {},
     "output_type": "execute_result"
    }
   ],
   "source": [
    "google.head(3)"
   ]
  },
  {
   "cell_type": "code",
   "execution_count": 8,
   "metadata": {
    "collapsed": false
   },
   "outputs": [
    {
     "data": {
      "text/plain": [
       "11    49.95\n",
       "9     50.07\n",
       "0     50.12\n",
       "Name: Stock Price, dtype: float64"
      ]
     },
     "execution_count": 8,
     "metadata": {},
     "output_type": "execute_result"
    }
   ],
   "source": [
    "google.sort_values().head(3)"
   ]
  },
  {
   "cell_type": "code",
   "execution_count": 9,
   "metadata": {
    "collapsed": true
   },
   "outputs": [],
   "source": [
    "google.sort_values(ascending=False, inplace=True)"
   ]
  },
  {
   "cell_type": "code",
   "execution_count": 10,
   "metadata": {
    "collapsed": false
   },
   "outputs": [
    {
     "data": {
      "text/plain": [
       "3011    782.22\n",
       "2859    776.60\n",
       "3009    773.18\n",
       "3007    772.88\n",
       "3010    771.61\n",
       "Name: Stock Price, dtype: float64"
      ]
     },
     "execution_count": 10,
     "metadata": {},
     "output_type": "execute_result"
    }
   ],
   "source": [
    "google.head()"
   ]
  },
  {
   "cell_type": "code",
   "execution_count": null,
   "metadata": {
    "collapsed": true
   },
   "outputs": [],
   "source": []
  }
 ],
 "metadata": {
  "kernelspec": {
   "display_name": "Python 3",
   "language": "python",
   "name": "python3"
  },
  "language_info": {
   "codemirror_mode": {
    "name": "ipython",
    "version": 3
   },
   "file_extension": ".py",
   "mimetype": "text/x-python",
   "name": "python",
   "nbconvert_exporter": "python",
   "pygments_lexer": "ipython3",
   "version": "3.6.3"
  }
 },
 "nbformat": 4,
 "nbformat_minor": 2
}
