{
 "cells": [
  {
   "cell_type": "markdown",
   "metadata": {},
   "source": [
    "## The Series .apply() method"
   ]
  },
  {
   "cell_type": "code",
   "execution_count": 1,
   "metadata": {
    "collapsed": true
   },
   "outputs": [],
   "source": [
    "import pandas as pd"
   ]
  },
  {
   "cell_type": "code",
   "execution_count": 2,
   "metadata": {
    "collapsed": true
   },
   "outputs": [],
   "source": [
    "google = pd.read_csv('datasets/google_stock_price.csv', squeeze=True)"
   ]
  },
  {
   "cell_type": "code",
   "execution_count": 3,
   "metadata": {
    "collapsed": true
   },
   "outputs": [],
   "source": [
    "def classify_performance(number):\n",
    "    if number < 300:\n",
    "        return \"OK\"\n",
    "    elif number >= 300:\n",
    "        return \"Satisfactory\"\n",
    "    else:\n",
    "        return \"Incredible!\""
   ]
  },
  {
   "cell_type": "code",
   "execution_count": 4,
   "metadata": {
    "collapsed": false
   },
   "outputs": [
    {
     "data": {
      "text/plain": [
       "0                 OK\n",
       "1                 OK\n",
       "2                 OK\n",
       "3                 OK\n",
       "4                 OK\n",
       "5                 OK\n",
       "6                 OK\n",
       "7                 OK\n",
       "8                 OK\n",
       "9                 OK\n",
       "10                OK\n",
       "11                OK\n",
       "12                OK\n",
       "13                OK\n",
       "14                OK\n",
       "15                OK\n",
       "16                OK\n",
       "17                OK\n",
       "18                OK\n",
       "19                OK\n",
       "20                OK\n",
       "21                OK\n",
       "22                OK\n",
       "23                OK\n",
       "24                OK\n",
       "25                OK\n",
       "26                OK\n",
       "27                OK\n",
       "28                OK\n",
       "29                OK\n",
       "            ...     \n",
       "2982    Satisfactory\n",
       "2983    Satisfactory\n",
       "2984    Satisfactory\n",
       "2985    Satisfactory\n",
       "2986    Satisfactory\n",
       "2987    Satisfactory\n",
       "2988    Satisfactory\n",
       "2989    Satisfactory\n",
       "2990    Satisfactory\n",
       "2991    Satisfactory\n",
       "2992    Satisfactory\n",
       "2993    Satisfactory\n",
       "2994    Satisfactory\n",
       "2995    Satisfactory\n",
       "2996    Satisfactory\n",
       "2997    Satisfactory\n",
       "2998    Satisfactory\n",
       "2999    Satisfactory\n",
       "3000    Satisfactory\n",
       "3001    Satisfactory\n",
       "3002    Satisfactory\n",
       "3003    Satisfactory\n",
       "3004    Satisfactory\n",
       "3005    Satisfactory\n",
       "3006    Satisfactory\n",
       "3007    Satisfactory\n",
       "3008    Satisfactory\n",
       "3009    Satisfactory\n",
       "3010    Satisfactory\n",
       "3011    Satisfactory\n",
       "Name: Stock Price, dtype: object"
      ]
     },
     "execution_count": 4,
     "metadata": {},
     "output_type": "execute_result"
    }
   ],
   "source": [
    "google.apply(classify_performance)"
   ]
  },
  {
   "cell_type": "code",
   "execution_count": 5,
   "metadata": {
    "collapsed": false
   },
   "outputs": [
    {
     "data": {
      "text/plain": [
       "291.21    5\n",
       "288.47    3\n",
       "194.80    3\n",
       "307.94    3\n",
       "243.26    3\n",
       "237.69    3\n",
       "289.71    3\n",
       "93.61     2\n",
       "287.85    2\n",
       "156.81    2\n",
       "281.87    2\n",
       "292.70    2\n",
       "274.23    2\n",
       "263.77    2\n",
       "271.01    2\n",
       "96.88     2\n",
       "307.91    2\n",
       "97.92     2\n",
       "254.74    2\n",
       "300.09    2\n",
       "190.31    2\n",
       "201.79    2\n",
       "575.28    2\n",
       "257.49    2\n",
       "86.19     2\n",
       "265.73    2\n",
       "145.48    2\n",
       "201.29    2\n",
       "242.16    2\n",
       "361.26    2\n",
       "         ..\n",
       "311.94    1\n",
       "695.94    1\n",
       "59.13     1\n",
       "704.24    1\n",
       "225.34    1\n",
       "187.03    1\n",
       "316.67    1\n",
       "252.93    1\n",
       "316.25    1\n",
       "577.53    1\n",
       "443.44    1\n",
       "210.04    1\n",
       "512.26    1\n",
       "319.47    1\n",
       "162.58    1\n",
       "705.07    1\n",
       "249.12    1\n",
       "295.86    1\n",
       "68.63     1\n",
       "530.42    1\n",
       "611.29    1\n",
       "170.11    1\n",
       "295.10    1\n",
       "759.00    1\n",
       "305.23    1\n",
       "294.94    1\n",
       "548.34    1\n",
       "261.09    1\n",
       "348.91    1\n",
       "92.50     1\n",
       "Name: Stock Price, dtype: int64"
      ]
     },
     "execution_count": 5,
     "metadata": {},
     "output_type": "execute_result"
    }
   ],
   "source": [
    "google.value_counts()"
   ]
  },
  {
   "cell_type": "code",
   "execution_count": 6,
   "metadata": {
    "collapsed": false
   },
   "outputs": [
    {
     "data": {
      "text/plain": [
       "OK              1721\n",
       "Satisfactory    1291\n",
       "Name: Stock Price, dtype: int64"
      ]
     },
     "execution_count": 6,
     "metadata": {},
     "output_type": "execute_result"
    }
   ],
   "source": [
    "google.apply(classify_performance).value_counts()"
   ]
  },
  {
   "cell_type": "code",
   "execution_count": null,
   "metadata": {
    "collapsed": true
   },
   "outputs": [],
   "source": []
  }
 ],
 "metadata": {
  "kernelspec": {
   "display_name": "Python 3",
   "language": "python",
   "name": "python3"
  },
  "language_info": {
   "codemirror_mode": {
    "name": "ipython",
    "version": 3
   },
   "file_extension": ".py",
   "mimetype": "text/x-python",
   "name": "python",
   "nbconvert_exporter": "python",
   "pygments_lexer": "ipython3",
   "version": "3.6.3"
  }
 },
 "nbformat": 4,
 "nbformat_minor": 2
}
